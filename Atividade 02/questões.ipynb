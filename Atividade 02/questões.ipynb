{
 "cells": [
  {
   "cell_type": "code",
   "execution_count": 12,
   "id": "6313655f",
   "metadata": {},
   "outputs": [],
   "source": [
    "import numpy as np\n",
    "import pandas as pd\n",
    "import matplotlib.pyplot as plt"
   ]
  },
  {
   "cell_type": "markdown",
   "id": "b482262b",
   "metadata": {},
   "source": [
    "#### 1) Escreva uma função que receba uma lista de números e retorne outra lista com os números ímpares."
   ]
  },
  {
   "cell_type": "code",
   "execution_count": 13,
   "id": "70d4b269",
   "metadata": {},
   "outputs": [
    {
     "name": "stdout",
     "output_type": "stream",
     "text": [
      "Os números da lista são: [0, 1, 2, 3, 4, 10, 13, 17, 20]\n",
      "Os números ímpares são: [ 1  3 13 17]\n"
     ]
    }
   ],
   "source": [
    "def get_odd_numbers( números ):\n",
    "    # Converte a lista em um array do numpy\n",
    "    if not isinstance( números, np.ndarray ):\n",
    "        números = np.array( números )\n",
    "\n",
    "    # Retorna os elementos ímpares do array\n",
    "    return números[ números % 2 != 0 ]\n",
    "\n",
    "lista_números = [0, 1, 2, 3, 4, 10, 13, 17, 20]\n",
    "print(f\"Os números da lista são: {lista_números}\")\n",
    "print(f\"Os números ímpares são: {get_odd_numbers(lista_números)}\")"
   ]
  },
  {
   "cell_type": "markdown",
   "id": "5185983c",
   "metadata": {},
   "source": [
    "#### 2) Escreva uma função que receba uma lista de números e retorne outra lista com os números primos presentes."
   ]
  },
  {
   "cell_type": "code",
   "execution_count": 14,
   "id": "4a268ea3",
   "metadata": {},
   "outputs": [
    {
     "name": "stdout",
     "output_type": "stream",
     "text": [
      "Os números da lista são: [0, 1, 2, 3, 4, 10, 13, 17, 20]\n",
      "Os números primos são: [ 2  3 13 17]\n"
     ]
    }
   ],
   "source": [
    "def get_prime_numbers( números ):\n",
    "    def is_prime( number ):\n",
    "        if number <= 1:\n",
    "            return False\n",
    "        \n",
    "        # Percorre os antecessores de dado número\n",
    "        for antecessor in range( number - 1, 1, -1 ):\n",
    "            # Verifica se o número é divisível por seu antecessor\n",
    "            if number%antecessor == 0:\n",
    "                return False\n",
    "        \n",
    "        return True\n",
    "    \n",
    "    # Converte a lista em um array do numpy\n",
    "    if not isinstance( números, np.ndarray ):\n",
    "        números = np.array( números )\n",
    "\n",
    "    # Aplica a função criada à todos os elementos da lista\n",
    "    índices_primos = list( map(is_prime, números) )\n",
    "\n",
    "    # Retorna os elementos primeos da lista\n",
    "    return números[ índices_primos ]\n",
    "\n",
    "lista_números = [0, 1, 2, 3, 4, 10, 13, 17, 20]\n",
    "print(f\"Os números da lista são: {lista_números}\")\n",
    "print(f\"Os números primos são: {get_prime_numbers(lista_números)}\")"
   ]
  },
  {
   "cell_type": "markdown",
   "id": "09c28eda",
   "metadata": {},
   "source": [
    "#### 3) Escreva uma função que receba duas listas e retorne outra lista com os elementos que estão presentes em apenas uma das listas."
   ]
  },
  {
   "cell_type": "code",
   "execution_count": 15,
   "id": "8562c739",
   "metadata": {},
   "outputs": [
    {
     "name": "stdout",
     "output_type": "stream",
     "text": [
      "Primeira lista: [0, 1, 2, 3, 4, 10, 13, 17, 20]\n",
      "Segunda lista: [0, 2, 4, 6, 7, 8, 10, 17, 25]\n",
      "Os números exclusivos são: [ 1  3  6  7  8 13 20 25]\n"
     ]
    }
   ],
   "source": [
    "def xor_lists( lista_a, lista_b ):\n",
    "    # Converte a lista em um array do numpy\n",
    "    if not isinstance( lista_a, np.ndarray ):\n",
    "        lista_a = np.array( lista_a )\n",
    "\n",
    "    # Converte a lista em um array do numpy\n",
    "    if not isinstance( lista_b, np.ndarray ):\n",
    "        lista_b = np.array( lista_b )\n",
    "    \n",
    "    # Numpy tem um método builtin para obter os elementos exclusivos entre as listas\n",
    "    return np.setxor1d( lista_a, lista_b )\n",
    "\n",
    "lista_a = [0, 1, 2, 3, 4, 10, 13, 17, 20]\n",
    "lista_b = [0, 2, 4, 6, 7, 8, 10, 17, 25]\n",
    "\n",
    "print(f\"Primeira lista: {lista_a}\")\n",
    "print(f\"Segunda lista: {lista_b}\")\n",
    "print(f\"Os números exclusivos são: {xor_lists(lista_a, lista_b)}\")"
   ]
  },
  {
   "cell_type": "markdown",
   "id": "5562f1d4",
   "metadata": {},
   "source": [
    "#### 4) Dada uma lista de números inteiros, escreva uma função para encontrar o segundo maior valor na lista."
   ]
  },
  {
   "cell_type": "code",
   "execution_count": 16,
   "id": "c0d7c678",
   "metadata": {},
   "outputs": [
    {
     "name": "stdout",
     "output_type": "stream",
     "text": [
      "Os números da lista são: [ -3  39 -30  28 -37 -29  39   8   1  35]\n",
      "Segundo maior valor: 39\n"
     ]
    }
   ],
   "source": [
    "def second_largest( números ):\n",
    "    # Converte a lista em um array do numpy\n",
    "    if not isinstance( números, np.ndarray ):\n",
    "        números = np.array( números )\n",
    "\n",
    "    # Organiza em ordem crescente\n",
    "    números.sort()\n",
    "    \n",
    "    # Retorna o segundo maior valor da lista\n",
    "    return números[-2]\n",
    "\n",
    "lista_números = np.random.randint( -50, 50, size=(10) )\n",
    "\n",
    "print(f\"Os números da lista são: {lista_números}\")\n",
    "print(f\"Segundo maior valor: {second_largest(lista_números)}\")"
   ]
  },
  {
   "cell_type": "markdown",
   "id": "03009145",
   "metadata": {},
   "source": [
    "#### 5) Crie uma função que receba uma lista de tuplas, cada uma contendo o nome e a idade de uma pessoa, e retorne a lista ordenada pelo nome das pessoas em ordem alfabética."
   ]
  },
  {
   "cell_type": "code",
   "execution_count": 17,
   "id": "04e5d8aa",
   "metadata": {},
   "outputs": [
    {
     "name": "stdout",
     "output_type": "stream",
     "text": [
      "[('Aline fernandes', 35), ('Alan Pessoa', 23), ('Beatriz Barbosa', 34), ('Ciclano de Tals', 40), ('Fernanda Luiza', 18), ('Gustavo Augusto', 25), ('Luana de Sousa', 20)]\n"
     ]
    }
   ],
   "source": [
    "def sort_persons( pessoas ):\n",
    "    # Sorteia a lista de tuplas considerando a primeira letra de cada nome\n",
    "    return sorted( pessoas, key = lambda pessoa: pessoa[0][0] )\n",
    "\n",
    "lista_pessoas = [\n",
    "    (\"Ciclano de Tals\", 40),\n",
    "    (\"Aline fernandes\", 35),\n",
    "    (\"Gustavo Augusto\", 25),\n",
    "    (\"Luana de Sousa\", 20),\n",
    "    (\"Fernanda Luiza\", 18),\n",
    "    (\"Beatriz Barbosa\", 34),\n",
    "    (\"Alan Pessoa\", 23)\n",
    "]\n",
    "\n",
    "print( sort_persons(lista_pessoas) )"
   ]
  },
  {
   "cell_type": "markdown",
   "id": "a8a7e489",
   "metadata": {},
   "source": [
    "#### 6) Como identificar e tratar outliers em uma coluna numérica usando desvio padrão ou quartis?"
   ]
  },
  {
   "cell_type": "markdown",
   "id": "f07b7739",
   "metadata": {},
   "source": [
    "Podemos visualizar os dados usando um boxplot de forma que os outliers fiquem visíveis. Além disso, uma das formas de tratar os outliers seria removendo esses pontos da análise (possível ao calcular os valores dos quartis, de forma a obter os limites de corte)."
   ]
  },
  {
   "cell_type": "code",
   "execution_count": 18,
   "id": "9536d0bd",
   "metadata": {},
   "outputs": [
    {
     "data": {
      "image/png": "[encoded data removed]",
      "text/plain": [
       "<Figure size 640x480 with 1 Axes>"
      ]
     },
     "metadata": {},
     "output_type": "display_data"
    }
   ],
   "source": [
    "# Cria uma distribuição normal e adiciona algum ruido (representaria os dados da coluna)\n",
    "y = np.random.normal( 0, 10, 20 )\n",
    "y = np.append(y, [50, -45, 80])\n",
    "\n",
    "# Exibe o boxplot, onde os outliers seriam visíveis\n",
    "fig = plt.boxplot( y, showmeans=True )"
   ]
  },
  {
   "cell_type": "markdown",
   "id": "7af697cf",
   "metadata": {},
   "source": [
    "#### 7) Como concaternar vários DataFrames (empilhando linhas ou colunas), mesmo que tenham colunas diferentes?"
   ]
  },
  {
   "cell_type": "markdown",
   "id": "68bb4a28",
   "metadata": {},
   "source": [
    "Conforme mencionado, podemos utilizar pd.concat para fazer a concatenação de DataFrames. Dessa forma já temos um tratamento para colunas diferentes, que serão preenchidos com ```NaN```. Além disso, podemos especificar se a concatenação será de linhas ou colunas por meio do valor escolhido para o argumento axis."
   ]
  },
  {
   "cell_type": "code",
   "execution_count": 19,
   "id": "5b182291",
   "metadata": {},
   "outputs": [
    {
     "name": "stdout",
     "output_type": "stream",
     "text": [
      "     Nome  Idade Comida favorita  Altura\n",
      "0  Miguel     30           Pizza     1.8\n",
      "1   Luiza     24           Pudim     1.6\n",
      "2   André     20             NaN     NaN\n",
      "3  Felipe     34             NaN     NaN\n"
     ]
    }
   ],
   "source": [
    "dataframe_1 = pd.DataFrame({'Nome': [\"Miguel\", \"Luiza\"], 'Idade': [30, 24]})\n",
    "dataframe_2 = pd.DataFrame({'Nome': [\"André\", \"Felipe\"], 'Idade': [20, 34]})\n",
    "dataframe_3 = pd.DataFrame({'Comida favorita': [\"Pizza\", \"Pudim\"], 'Altura': [1.8, 1.6]})\n",
    "\n",
    "# Concatena as linhas (resetando o índice)\n",
    "pessoas = pd.concat([dataframe_1, dataframe_2], axis=0, ignore_index=True)\n",
    "\n",
    "# Concatena as colunas\n",
    "pessoas = pd.concat([pessoas, dataframe_3], axis=1)\n",
    "\n",
    "print( pessoas )"
   ]
  },
  {
   "cell_type": "markdown",
   "id": "7475287a",
   "metadata": {},
   "source": [
    "#### 8) Utilizando panda, como realizar a leitura de um arquivo CSV em um DataFrame e exibir as primeiras linhas?"
   ]
  },
  {
   "cell_type": "code",
   "execution_count": 20,
   "id": "2a4cb20f",
   "metadata": {},
   "outputs": [
    {
     "data": {
      "text/html": [
       "<div>\n",
       "<style scoped>\n",
       "    .dataframe tbody tr th:only-of-type {\n",
       "        vertical-align: middle;\n",
       "    }\n",
       "\n",
       "    .dataframe tbody tr th {\n",
       "        vertical-align: top;\n",
       "    }\n",
       "\n",
       "    .dataframe thead th {\n",
       "        text-align: right;\n",
       "    }\n",
       "</style>\n",
       "<table border=\"1\" class=\"dataframe\">\n",
       "  <thead>\n",
       "    <tr style=\"text-align: right;\">\n",
       "      <th></th>\n",
       "      <th>sepal length</th>\n",
       "      <th>sepal width</th>\n",
       "      <th>petal length</th>\n",
       "      <th>petal width</th>\n",
       "      <th>class</th>\n",
       "    </tr>\n",
       "  </thead>\n",
       "  <tbody>\n",
       "    <tr>\n",
       "      <th>0</th>\n",
       "      <td>5.1</td>\n",
       "      <td>3.5</td>\n",
       "      <td>1.4</td>\n",
       "      <td>0.2</td>\n",
       "      <td>Iris-setosa</td>\n",
       "    </tr>\n",
       "    <tr>\n",
       "      <th>1</th>\n",
       "      <td>4.9</td>\n",
       "      <td>3.0</td>\n",
       "      <td>1.4</td>\n",
       "      <td>0.2</td>\n",
       "      <td>Iris-setosa</td>\n",
       "    </tr>\n",
       "    <tr>\n",
       "      <th>2</th>\n",
       "      <td>4.7</td>\n",
       "      <td>3.2</td>\n",
       "      <td>1.3</td>\n",
       "      <td>0.2</td>\n",
       "      <td>Iris-setosa</td>\n",
       "    </tr>\n",
       "    <tr>\n",
       "      <th>3</th>\n",
       "      <td>4.6</td>\n",
       "      <td>3.1</td>\n",
       "      <td>1.5</td>\n",
       "      <td>0.2</td>\n",
       "      <td>Iris-setosa</td>\n",
       "    </tr>\n",
       "    <tr>\n",
       "      <th>4</th>\n",
       "      <td>5.0</td>\n",
       "      <td>3.6</td>\n",
       "      <td>1.4</td>\n",
       "      <td>0.2</td>\n",
       "      <td>Iris-setosa</td>\n",
       "    </tr>\n",
       "  </tbody>\n",
       "</table>\n",
       "</div>"
      ],
      "text/plain": [
       "   sepal length  sepal width  petal length  petal width        class\n",
       "0           5.1          3.5           1.4          0.2  Iris-setosa\n",
       "1           4.9          3.0           1.4          0.2  Iris-setosa\n",
       "2           4.7          3.2           1.3          0.2  Iris-setosa\n",
       "3           4.6          3.1           1.5          0.2  Iris-setosa\n",
       "4           5.0          3.6           1.4          0.2  Iris-setosa"
      ]
     },
     "execution_count": 20,
     "metadata": {},
     "output_type": "execute_result"
    }
   ],
   "source": [
    "# Podemos usar read_csv para abrir arquivos CSV (há diversas configurações possíveis)\n",
    "dataset = pd.read_csv(\"iris.data\", names = [\"sepal length\", \"sepal width\", \"petal length\", \"petal width\", \"class\"])\n",
    "\n",
    "# O método head exibe as primeiras linhas\n",
    "dataset.head()"
   ]
  },
  {
   "cell_type": "markdown",
   "id": "b21f2369",
   "metadata": {},
   "source": [
    "#### 9) Utilizando pandas, como selecionar uma coluna específica e filtrar linhas em um \"DataFrame\" com base em uma condição?"
   ]
  },
  {
   "cell_type": "code",
   "execution_count": 21,
   "id": "2c3b4f68",
   "metadata": {},
   "outputs": [
    {
     "data": {
      "text/html": [
       "<div>\n",
       "<style scoped>\n",
       "    .dataframe tbody tr th:only-of-type {\n",
       "        vertical-align: middle;\n",
       "    }\n",
       "\n",
       "    .dataframe tbody tr th {\n",
       "        vertical-align: top;\n",
       "    }\n",
       "\n",
       "    .dataframe thead th {\n",
       "        text-align: right;\n",
       "    }\n",
       "</style>\n",
       "<table border=\"1\" class=\"dataframe\">\n",
       "  <thead>\n",
       "    <tr style=\"text-align: right;\">\n",
       "      <th></th>\n",
       "      <th>Nome</th>\n",
       "      <th>Idade</th>\n",
       "    </tr>\n",
       "  </thead>\n",
       "  <tbody>\n",
       "    <tr>\n",
       "      <th>0</th>\n",
       "      <td>Miguel</td>\n",
       "      <td>30</td>\n",
       "    </tr>\n",
       "    <tr>\n",
       "      <th>1</th>\n",
       "      <td>Luiza</td>\n",
       "      <td>24</td>\n",
       "    </tr>\n",
       "  </tbody>\n",
       "</table>\n",
       "</div>"
      ],
      "text/plain": [
       "     Nome  Idade\n",
       "0  Miguel     30\n",
       "1   Luiza     24"
      ]
     },
     "execution_count": 21,
     "metadata": {},
     "output_type": "execute_result"
    }
   ],
   "source": [
    "# Pandas permite realizar isso de forma direta, apenas especificando o nome da coluna e a condição desejada\n",
    "dataframe_1 = pd.DataFrame({'Nome': [\"Miguel\", \"Luiza\", \"Souza\", \"Felipe\", \"Andreza\", \"Sérgio\"], 'Idade': [30, 24, 18, 15, 10, 20]})\n",
    "\n",
    "# Por exemplo, filtrando todas as linhas que possuem valores maiores que 20 na coluna de idade\n",
    "dataframe_1[ dataframe_1[\"Idade\"] > 20 ]"
   ]
  },
  {
   "cell_type": "markdown",
   "id": "1a4bfaad",
   "metadata": {},
   "source": [
    "#### 10) Utilizando pandas, como lidar com valores ausentes (NaN) em um DataFrame?"
   ]
  },
  {
   "cell_type": "code",
   "execution_count": 22,
   "id": "5b741089",
   "metadata": {},
   "outputs": [
    {
     "name": "stdout",
     "output_type": "stream",
     "text": [
      "      Nome Idade\n",
      "0   Miguel    30\n",
      "1    Luiza   NaN\n",
      "2    Souza    18\n",
      "3   Felipe   NaN\n",
      "4  Andreza    10\n",
      "5   Sérgio   NaN \n",
      "\n",
      "      Nome  Idade\n",
      "0   Miguel     30\n",
      "1    Luiza      5\n",
      "2    Souza     18\n",
      "3   Felipe      5\n",
      "4  Andreza     10\n",
      "5   Sérgio      5 \n",
      "\n",
      "      Nome Idade\n",
      "0   Miguel    30\n",
      "2    Souza    18\n",
      "4  Andreza    10 \n",
      "\n"
     ]
    },
    {
     "name": "stderr",
     "output_type": "stream",
     "text": [
      "C:\\Users\\Casa 1\\AppData\\Local\\Temp\\ipykernel_16568\\1402033790.py:9: FutureWarning: Downcasting object dtype arrays on .fillna, .ffill, .bfill is deprecated and will change in a future version. Call result.infer_objects(copy=False) instead. To opt-in to the future behavior, set `pd.set_option('future.no_silent_downcasting', True)`\n",
      "  dataframe_fill_nan = dataframe.fillna(5)    # Preenche os NaN com um valor\n"
     ]
    }
   ],
   "source": [
    "# Exemplo de dataframe com elementos faltantes (poderíamos especificar 'na_values' caso fosse lido por meio de read_csv)\n",
    "dataframe = pd.DataFrame({'Nome': [\"Miguel\", \"Luiza\", \"Souza\", \"Felipe\", \"Andreza\", \"Sérgio\"], 'Idade': [30, \"?\", 18, \"?\", 10, \"?\"]})\n",
    "\n",
    "# Substitui os elementos faltantes por NaN\n",
    "dataframe = dataframe.where( dataframe != \"?\", np.nan)\n",
    "print( dataframe, \"\\n\" )\n",
    "\n",
    "# A partir dai teríamos algumas opções, tais como atribuir valores específicos para campos com NaN ou remover eles\n",
    "dataframe_fill_nan = dataframe.fillna(5)    # Preenche os NaN com um valor\n",
    "print( dataframe_fill_nan, \"\\n\" )\n",
    "\n",
    "dataframe_without_nan = dataframe.dropna()  # Remove os campos com NaN\n",
    "print( dataframe_without_nan, \"\\n\" )"
   ]
  }
 ],
 "metadata": {
  "kernelspec": {
   "display_name": "base",
   "language": "python",
   "name": "python3"
  },
  "language_info": {
   "codemirror_mode": {
    "name": "ipython",
    "version": 3
   },
   "file_extension": ".py",
   "mimetype": "text/x-python",
   "name": "python",
   "nbconvert_exporter": "python",
   "pygments_lexer": "ipython3",
   "version": "3.12.7"
  }
 },
 "nbformat": 4,
 "nbformat_minor": 5
}
